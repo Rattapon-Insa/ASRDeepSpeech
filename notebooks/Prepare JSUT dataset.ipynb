{
 "cells": [
  {
   "cell_type": "code",
   "execution_count": 1,
   "id": "protective-stroke",
   "metadata": {},
   "outputs": [],
   "source": [
    "import os \n",
    "from gnutools.fs import listfiles, name, parent\n",
    "from asr_deepspeech.audio import duration, fq\n",
    "from tqdm import tqdm\n",
    "from pprint import pprint\n",
    "import pandas as pd\n",
    "from concurrent.futures import ProcessPoolExecutor\n",
    "from pprint import pprint"
   ]
  },
  {
   "cell_type": "code",
   "execution_count": 2,
   "id": "inappropriate-ivory",
   "metadata": {},
   "outputs": [],
   "source": [
    "root = \"/srv/sync/cdata/ASR/ja/processed/CLEAN/JSUT/jsut_ver1.1\"\n",
    "files = [f for f in listfiles(root, [\".wav\"]) if f.endswith(\".wav\")]"
   ]
  },
  {
   "cell_type": "code",
   "execution_count": 3,
   "id": "broke-conditioning",
   "metadata": {},
   "outputs": [],
   "source": [
    "class JSUTDataset():\n",
    "    def __init__(self, files, dictionary, fq=16000):\n",
    "        self._files = files\n",
    "        self._fq = fq\n",
    "        self._dictionary = dictionary\n",
    "        self._entries = self.entries()\n",
    "    \n",
    "    def entries(self):\n",
    "        d = dict([self.entry(f) for f in tqdm(self._files, total=len(self._files))])\n",
    "        return pd.DataFrame.from_dict(d).transpose()\n",
    "            \n",
    "    def entry(self, file):\n",
    "        _name_file = name(file)\n",
    "        _duration = duration(file)\n",
    "        _fq = fq(file)\n",
    "        _text = self._dictionary[_name_file]\n",
    "        assert _fq == self._fq\n",
    "        d = {\n",
    "            \"audio_filepath\": file,\n",
    "            \"duration\": _duration,\n",
    "            \"fq\": _fq,\n",
    "            \"text\": _text\n",
    "        }\n",
    "        return (_name_file,  d)\n",
    "    \n",
    "    def filter_duration(self, start=1, stop=5, blacklist=[]):\n",
    "        _entries = self._entries\n",
    "        entries = _entries.transpose().to_dict()\n",
    "        entries =  dict([(k, v) for k, v in entries.items() if (v[\"duration\"]>=start and v[\"duration\"]<=stop and not k in blacklist)])\n",
    "        df = pd.DataFrame.from_dict(entries)\n",
    "        return df.transpose()"
   ]
  },
  {
   "cell_type": "code",
   "execution_count": 4,
   "id": "running-conviction",
   "metadata": {},
   "outputs": [
    {
     "name": "stderr",
     "output_type": "stream",
     "text": [
      "100%|██████████| 7696/7696 [00:00<00:00, 13892.12it/s]\n"
     ]
    }
   ],
   "source": [
    "root_transcripts = \"/srv/nfs/cdata/ASR/ja/raw/CLEAN/JSUT/jsut_ver1.1\"\n",
    "transcript_files = listfiles(root_transcripts, [\"transcript_utf8.txt\"])\n",
    "transcripts = {}\n",
    "def filter_text(t):\n",
    "    k, v = t\n",
    "    v = v.replace(\" \", \"\").replace(\"\\n\", \"\").replace(\"、\", \"\").replace(\"。\", \"\")\n",
    "    return (k, v)\n",
    "for file in transcript_files:\n",
    "    _transcripts = dict([filter_text(l.split(\":\")) for l in open(file)])\n",
    "    transcripts.update(_transcripts)\n",
    "dataset = JSUTDataset(files, transcripts)"
   ]
  },
  {
   "cell_type": "code",
   "execution_count": 5,
   "id": "actual-thumbnail",
   "metadata": {},
   "outputs": [
    {
     "data": {
      "text/html": [
       "<div>\n",
       "<style scoped>\n",
       "    .dataframe tbody tr th:only-of-type {\n",
       "        vertical-align: middle;\n",
       "    }\n",
       "\n",
       "    .dataframe tbody tr th {\n",
       "        vertical-align: top;\n",
       "    }\n",
       "\n",
       "    .dataframe thead th {\n",
       "        text-align: right;\n",
       "    }\n",
       "</style>\n",
       "<table border=\"1\" class=\"dataframe\">\n",
       "  <thead>\n",
       "    <tr style=\"text-align: right;\">\n",
       "      <th></th>\n",
       "      <th>audio_filepath</th>\n",
       "      <th>duration</th>\n",
       "      <th>fq</th>\n",
       "      <th>text</th>\n",
       "    </tr>\n",
       "  </thead>\n",
       "  <tbody>\n",
       "    <tr>\n",
       "      <th>UT-PARAPHRASE-sent055-phrase1</th>\n",
       "      <td>/srv/sync/cdata/ASR/ja/processed/CLEAN/JSUT/js...</td>\n",
       "      <td>2.15</td>\n",
       "      <td>16000</td>\n",
       "      <td>今はせわしなく世知辛い</td>\n",
       "    </tr>\n",
       "    <tr>\n",
       "      <th>UT-PARAPHRASE-sent196-phrase1</th>\n",
       "      <td>/srv/sync/cdata/ASR/ja/processed/CLEAN/JSUT/js...</td>\n",
       "      <td>5.84</td>\n",
       "      <td>16000</td>\n",
       "      <td>練り方が足りないと出来上がりがぱさつき口に入れるとポロポロと崩れる感じになる</td>\n",
       "    </tr>\n",
       "    <tr>\n",
       "      <th>UT-PARAPHRASE-sent175-phrase1</th>\n",
       "      <td>/srv/sync/cdata/ASR/ja/processed/CLEAN/JSUT/js...</td>\n",
       "      <td>4.11</td>\n",
       "      <td>16000</td>\n",
       "      <td>手書きの作業が不要になり記帳の間違いもなくなる</td>\n",
       "    </tr>\n",
       "    <tr>\n",
       "      <th>UT-PARAPHRASE-sent226-phrase2</th>\n",
       "      <td>/srv/sync/cdata/ASR/ja/processed/CLEAN/JSUT/js...</td>\n",
       "      <td>4.23</td>\n",
       "      <td>16000</td>\n",
       "      <td>しかし秘書には決して取り合うなと指示していた</td>\n",
       "    </tr>\n",
       "    <tr>\n",
       "      <th>UT-PARAPHRASE-sent274-phrase1</th>\n",
       "      <td>/srv/sync/cdata/ASR/ja/processed/CLEAN/JSUT/js...</td>\n",
       "      <td>3.71</td>\n",
       "      <td>16000</td>\n",
       "      <td>より手厚い看護ができるようになるのは望ましいことだ</td>\n",
       "    </tr>\n",
       "    <tr>\n",
       "      <th>...</th>\n",
       "      <td>...</td>\n",
       "      <td>...</td>\n",
       "      <td>...</td>\n",
       "      <td>...</td>\n",
       "    </tr>\n",
       "    <tr>\n",
       "      <th>BASIC5000_4332</th>\n",
       "      <td>/srv/sync/cdata/ASR/ja/processed/CLEAN/JSUT/js...</td>\n",
       "      <td>7.08775</td>\n",
       "      <td>16000</td>\n",
       "      <td>勝手な行動を続けたショウと仲たがいすることになるが結局神狗との銃撃戦で殉職</td>\n",
       "    </tr>\n",
       "    <tr>\n",
       "      <th>BASIC5000_4033</th>\n",
       "      <td>/srv/sync/cdata/ASR/ja/processed/CLEAN/JSUT/js...</td>\n",
       "      <td>3.75</td>\n",
       "      <td>16000</td>\n",
       "      <td>この様子を見てつるぎは夜露との取引に乗った</td>\n",
       "    </tr>\n",
       "    <tr>\n",
       "      <th>BASIC5000_4903</th>\n",
       "      <td>/srv/sync/cdata/ASR/ja/processed/CLEAN/JSUT/js...</td>\n",
       "      <td>3.1</td>\n",
       "      <td>16000</td>\n",
       "      <td>彼女はいつも床を綺麗に掃いています</td>\n",
       "    </tr>\n",
       "    <tr>\n",
       "      <th>BASIC5000_0930</th>\n",
       "      <td>/srv/sync/cdata/ASR/ja/processed/CLEAN/JSUT/js...</td>\n",
       "      <td>5</td>\n",
       "      <td>16000</td>\n",
       "      <td>土日月の午前１０時半から午後４時まで開館</td>\n",
       "    </tr>\n",
       "    <tr>\n",
       "      <th>BASIC5000_4321</th>\n",
       "      <td>/srv/sync/cdata/ASR/ja/processed/CLEAN/JSUT/js...</td>\n",
       "      <td>3.02</td>\n",
       "      <td>16000</td>\n",
       "      <td>エベレットはその少年が鍵だと悟る</td>\n",
       "    </tr>\n",
       "  </tbody>\n",
       "</table>\n",
       "<p>7696 rows × 4 columns</p>\n",
       "</div>"
      ],
      "text/plain": [
       "                                                                  audio_filepath  \\\n",
       "UT-PARAPHRASE-sent055-phrase1  /srv/sync/cdata/ASR/ja/processed/CLEAN/JSUT/js...   \n",
       "UT-PARAPHRASE-sent196-phrase1  /srv/sync/cdata/ASR/ja/processed/CLEAN/JSUT/js...   \n",
       "UT-PARAPHRASE-sent175-phrase1  /srv/sync/cdata/ASR/ja/processed/CLEAN/JSUT/js...   \n",
       "UT-PARAPHRASE-sent226-phrase2  /srv/sync/cdata/ASR/ja/processed/CLEAN/JSUT/js...   \n",
       "UT-PARAPHRASE-sent274-phrase1  /srv/sync/cdata/ASR/ja/processed/CLEAN/JSUT/js...   \n",
       "...                                                                          ...   \n",
       "BASIC5000_4332                 /srv/sync/cdata/ASR/ja/processed/CLEAN/JSUT/js...   \n",
       "BASIC5000_4033                 /srv/sync/cdata/ASR/ja/processed/CLEAN/JSUT/js...   \n",
       "BASIC5000_4903                 /srv/sync/cdata/ASR/ja/processed/CLEAN/JSUT/js...   \n",
       "BASIC5000_0930                 /srv/sync/cdata/ASR/ja/processed/CLEAN/JSUT/js...   \n",
       "BASIC5000_4321                 /srv/sync/cdata/ASR/ja/processed/CLEAN/JSUT/js...   \n",
       "\n",
       "                              duration     fq  \\\n",
       "UT-PARAPHRASE-sent055-phrase1     2.15  16000   \n",
       "UT-PARAPHRASE-sent196-phrase1     5.84  16000   \n",
       "UT-PARAPHRASE-sent175-phrase1     4.11  16000   \n",
       "UT-PARAPHRASE-sent226-phrase2     4.23  16000   \n",
       "UT-PARAPHRASE-sent274-phrase1     3.71  16000   \n",
       "...                                ...    ...   \n",
       "BASIC5000_4332                 7.08775  16000   \n",
       "BASIC5000_4033                    3.75  16000   \n",
       "BASIC5000_4903                     3.1  16000   \n",
       "BASIC5000_0930                       5  16000   \n",
       "BASIC5000_4321                    3.02  16000   \n",
       "\n",
       "                                                                 text  \n",
       "UT-PARAPHRASE-sent055-phrase1                             今はせわしなく世知辛い  \n",
       "UT-PARAPHRASE-sent196-phrase1  練り方が足りないと出来上がりがぱさつき口に入れるとポロポロと崩れる感じになる  \n",
       "UT-PARAPHRASE-sent175-phrase1                 手書きの作業が不要になり記帳の間違いもなくなる  \n",
       "UT-PARAPHRASE-sent226-phrase2                  しかし秘書には決して取り合うなと指示していた  \n",
       "UT-PARAPHRASE-sent274-phrase1               より手厚い看護ができるようになるのは望ましいことだ  \n",
       "...                                                               ...  \n",
       "BASIC5000_4332                  勝手な行動を続けたショウと仲たがいすることになるが結局神狗との銃撃戦で殉職  \n",
       "BASIC5000_4033                                  この様子を見てつるぎは夜露との取引に乗った  \n",
       "BASIC5000_4903                                      彼女はいつも床を綺麗に掃いています  \n",
       "BASIC5000_0930                                   土日月の午前１０時半から午後４時まで開館  \n",
       "BASIC5000_4321                                       エベレットはその少年が鍵だと悟る  \n",
       "\n",
       "[7696 rows x 4 columns]"
      ]
     },
     "execution_count": 5,
     "metadata": {},
     "output_type": "execute_result"
    }
   ],
   "source": [
    "dataset._entries"
   ]
  },
  {
   "cell_type": "code",
   "execution_count": 6,
   "id": "forbidden-meeting",
   "metadata": {},
   "outputs": [
    {
     "name": "stdout",
     "output_type": "stream",
     "text": [
      "1275\n",
      "142\n"
     ]
    }
   ],
   "source": [
    "import json\n",
    "import random\n",
    "from sklearn.model_selection import train_test_split\n",
    "\n",
    "d = dataset.filter_duration(6, 10)\n",
    "d.head()\n",
    "dtrain, dtest = train_test_split(d, test_size=0.1)\n",
    "print(len(dtrain.transpose().to_dict()))\n",
    "print(len(dtest.transpose().to_dict()))\n",
    "json.dump(dtrain.transpose().to_dict()  , open(\"jsut_ids_6_10-train.json\", \"w\"), indent=4, ensure_ascii=False)\n",
    "json.dump(dtest.transpose().to_dict()  , open(\"jsut_ids_6_10-val.json\", \"w\"), indent=4, ensure_ascii=False)"
   ]
  },
  {
   "cell_type": "code",
   "execution_count": 7,
   "id": "elegant-mississippi",
   "metadata": {},
   "outputs": [
    {
     "data": {
      "text/html": [
       "<div>\n",
       "<style scoped>\n",
       "    .dataframe tbody tr th:only-of-type {\n",
       "        vertical-align: middle;\n",
       "    }\n",
       "\n",
       "    .dataframe tbody tr th {\n",
       "        vertical-align: top;\n",
       "    }\n",
       "\n",
       "    .dataframe thead th {\n",
       "        text-align: right;\n",
       "    }\n",
       "</style>\n",
       "<table border=\"1\" class=\"dataframe\">\n",
       "  <thead>\n",
       "    <tr style=\"text-align: right;\">\n",
       "      <th></th>\n",
       "      <th>audio_filepath</th>\n",
       "      <th>duration</th>\n",
       "      <th>fq</th>\n",
       "      <th>text</th>\n",
       "    </tr>\n",
       "  </thead>\n",
       "  <tbody>\n",
       "    <tr>\n",
       "      <th>BASIC5000_3246</th>\n",
       "      <td>/srv/sync/cdata/ASR/ja/processed/CLEAN/JSUT/js...</td>\n",
       "      <td>7.99</td>\n",
       "      <td>16000</td>\n",
       "      <td>ガス風船とは一般には浮揚性のある水素ガスやヘリウムガスを注入したゴム風船やマイラーバルーンのこと</td>\n",
       "    </tr>\n",
       "    <tr>\n",
       "      <th>REPEAT500_set2_072</th>\n",
       "      <td>/srv/sync/cdata/ASR/ja/processed/CLEAN/JSUT/js...</td>\n",
       "      <td>6.32931</td>\n",
       "      <td>16000</td>\n",
       "      <td>ブラッグはビューエル軍よりも劣勢だったためにこの機会を生かすことを躊躇した</td>\n",
       "    </tr>\n",
       "    <tr>\n",
       "      <th>BASIC5000_4347</th>\n",
       "      <td>/srv/sync/cdata/ASR/ja/processed/CLEAN/JSUT/js...</td>\n",
       "      <td>6.55931</td>\n",
       "      <td>16000</td>\n",
       "      <td>衰えると肉体を炎と化して灰の中から雛として生まれ変わることが出来る</td>\n",
       "    </tr>\n",
       "    <tr>\n",
       "      <th>BASIC5000_3786</th>\n",
       "      <td>/srv/sync/cdata/ASR/ja/processed/CLEAN/JSUT/js...</td>\n",
       "      <td>7.81</td>\n",
       "      <td>16000</td>\n",
       "      <td>建築の分野では周に入ってからそれまでの茅葺きから瓦が一般的になったことがわかっている</td>\n",
       "    </tr>\n",
       "    <tr>\n",
       "      <th>BASIC5000_3776</th>\n",
       "      <td>/srv/sync/cdata/ASR/ja/processed/CLEAN/JSUT/js...</td>\n",
       "      <td>7.39</td>\n",
       "      <td>16000</td>\n",
       "      <td>アイゼンをつけると滑りにくくなるが雪が軟らかい場合アイゼン装着でキックステップを使う場合もある</td>\n",
       "    </tr>\n",
       "  </tbody>\n",
       "</table>\n",
       "</div>"
      ],
      "text/plain": [
       "                                                       audio_filepath  \\\n",
       "BASIC5000_3246      /srv/sync/cdata/ASR/ja/processed/CLEAN/JSUT/js...   \n",
       "REPEAT500_set2_072  /srv/sync/cdata/ASR/ja/processed/CLEAN/JSUT/js...   \n",
       "BASIC5000_4347      /srv/sync/cdata/ASR/ja/processed/CLEAN/JSUT/js...   \n",
       "BASIC5000_3786      /srv/sync/cdata/ASR/ja/processed/CLEAN/JSUT/js...   \n",
       "BASIC5000_3776      /srv/sync/cdata/ASR/ja/processed/CLEAN/JSUT/js...   \n",
       "\n",
       "                   duration     fq  \\\n",
       "BASIC5000_3246         7.99  16000   \n",
       "REPEAT500_set2_072  6.32931  16000   \n",
       "BASIC5000_4347      6.55931  16000   \n",
       "BASIC5000_3786         7.81  16000   \n",
       "BASIC5000_3776         7.39  16000   \n",
       "\n",
       "                                                                text  \n",
       "BASIC5000_3246      ガス風船とは一般には浮揚性のある水素ガスやヘリウムガスを注入したゴム風船やマイラーバルーンのこと  \n",
       "REPEAT500_set2_072             ブラッグはビューエル軍よりも劣勢だったためにこの機会を生かすことを躊躇した  \n",
       "BASIC5000_4347                     衰えると肉体を炎と化して灰の中から雛として生まれ変わることが出来る  \n",
       "BASIC5000_3786            建築の分野では周に入ってからそれまでの茅葺きから瓦が一般的になったことがわかっている  \n",
       "BASIC5000_3776       アイゼンをつけると滑りにくくなるが雪が軟らかい場合アイゼン装着でキックステップを使う場合もある  "
      ]
     },
     "execution_count": 7,
     "metadata": {},
     "output_type": "execute_result"
    }
   ],
   "source": [
    "dtest.head()"
   ]
  },
  {
   "cell_type": "code",
   "execution_count": 15,
   "id": "musical-address",
   "metadata": {},
   "outputs": [
    {
     "name": "stdout",
     "output_type": "stream",
     "text": [
      "277\n"
     ]
    }
   ],
   "source": [
    "import json\n",
    "import random\n",
    "from sklearn.model_selection import train_test_split\n",
    "\n",
    "val = \"/srv/sync/cpj/CADIC/cadic-asr-deepspeech/__data__/manifests/jsut_ids_4_5-val.json\"\n",
    "blacklist = list(json.load(open(val, \"r\")).keys())\n",
    "dtrain = dataset.filter_duration(10, 15, blacklist=blacklist)\n",
    "dtrain.head()\n",
    "# dtrain, dtest = train_test_split(d, test_size=0)\n",
    "print(len(dtrain.transpose().to_dict()))\n",
    "# print(len(dtest.transpose().to_dict()))\n",
    "# json.dump(dtrain.transpose().to_dict()  , open(\"jsut_ids_2_4-train.json\", \"w\"), indent=4, ensure_ascii=False)\n",
    "# json.dump(dtest.transpose().to_dict()  , open(\"jsut_ids_6_10-val.json\", \"w\"), indent=4, ensure_ascii=False)"
   ]
  },
  {
   "cell_type": "code",
   "execution_count": 13,
   "id": "composed-dream",
   "metadata": {},
   "outputs": [
    {
     "data": {
      "text/plain": [
       "147"
      ]
     },
     "execution_count": 13,
     "metadata": {},
     "output_type": "execute_result"
    }
   ],
   "source": [
    "len(blacklist)"
   ]
  },
  {
   "cell_type": "code",
   "execution_count": null,
   "id": "destroyed-permit",
   "metadata": {},
   "outputs": [],
   "source": []
  }
 ],
 "metadata": {
  "kernelspec": {
   "display_name": "Python [conda env:asr3.6]",
   "language": "python",
   "name": "conda-env-asr3.6-py"
  },
  "language_info": {
   "codemirror_mode": {
    "name": "ipython",
    "version": 3
   },
   "file_extension": ".py",
   "mimetype": "text/x-python",
   "name": "python",
   "nbconvert_exporter": "python",
   "pygments_lexer": "ipython3",
   "version": "3.6.12"
  }
 },
 "nbformat": 4,
 "nbformat_minor": 5
}
